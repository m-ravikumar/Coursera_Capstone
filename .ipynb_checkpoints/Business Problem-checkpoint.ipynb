{
 "cells": [
  {
   "cell_type": "markdown",
   "metadata": {},
   "source": [
    "# The Battle of Neighborhoods"
   ]
  },
  {
   "cell_type": "markdown",
   "metadata": {},
   "source": [
    "## Introduction/Business Problem:"
   ]
  },
  {
   "cell_type": "markdown",
   "metadata": {},
   "source": [
    "* An internation Tourism company is looking to start their business in Canada. After their internal discussion, they've decided to look into the best possibilities to start their branch in around at Downtown Toronto as it is one of the main central business district of Toronto and some other cities in Ontario province. However they also have a thought in mind that, what could be chances of impact if they choose Hamilton or Brampton or else do they need to consider the other cities of the country too.They wanted explore all the above illustrated as a prior business checks to get some strategic insights. Here they need the help of analytics and data science to come up with the better option for them to start their business unit Canada\n"
   ]
  },
  {
   "cell_type": "markdown",
   "metadata": {},
   "source": [
    "## Data :"
   ]
  },
  {
   "cell_type": "markdown",
   "metadata": {},
   "source": [
    "* The source of the data here would be mainly using coordinate of the Toronto and other near by cities. To achieve this, first we'll be scraping the postal codes data from the wikipedia and once we get longitude and latitude of that location using postal code, then we can use this to get the coordinates of each neighborhood by using the geocoder api.\n",
    "* In the next stage, we'll be using foursquare location api to get the venue details and the specific neighborhoods of that specific borough. with the result of foursqure api, we need to parse and prepare a structured format that contains all the basic and necessary details of the venues.\n",
    "* The main libraries and tools we will be using are; Python packages: pandas, requests, geocoder,folium, json  and json_normalize. API's:  foursqare location api"
   ]
  },
  {
   "cell_type": "code",
   "execution_count": null,
   "metadata": {},
   "outputs": [],
   "source": []
  }
 ],
 "metadata": {
  "kernelspec": {
   "display_name": "Python 3",
   "language": "python",
   "name": "python3"
  },
  "language_info": {
   "codemirror_mode": {
    "name": "ipython",
    "version": 3
   },
   "file_extension": ".py",
   "mimetype": "text/x-python",
   "name": "python",
   "nbconvert_exporter": "python",
   "pygments_lexer": "ipython3",
   "version": "3.6.7"
  }
 },
 "nbformat": 4,
 "nbformat_minor": 2
}
